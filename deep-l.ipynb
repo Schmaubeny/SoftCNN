{
 "cells": [
  {
   "cell_type": "code",
   "execution_count": 1,
   "id": "ae90b0a8",
   "metadata": {
    "_cell_guid": "b1076dfc-b9ad-4769-8c92-a6c4dae69d19",
    "_uuid": "8f2839f25d086af736a60e9eeb907d3b93b6e0e5",
    "execution": {
     "iopub.execute_input": "2023-11-03T15:37:53.831320Z",
     "iopub.status.busy": "2023-11-03T15:37:53.831029Z",
     "iopub.status.idle": "2023-11-03T15:38:12.750554Z",
     "shell.execute_reply": "2023-11-03T15:38:12.749179Z"
    },
    "papermill": {
     "duration": 18.926078,
     "end_time": "2023-11-03T15:38:12.753088",
     "exception": false,
     "start_time": "2023-11-03T15:37:53.827010",
     "status": "completed"
    },
    "tags": []
   },
   "outputs": [
    {
     "name": "stdout",
     "output_type": "stream",
     "text": [
      "Requirement already satisfied: gitpython in /opt/conda/lib/python3.10/site-packages (3.1.31)\r\n",
      "Requirement already satisfied: gitdb<5,>=4.0.1 in /opt/conda/lib/python3.10/site-packages (from gitpython) (4.0.10)\r\n",
      "Requirement already satisfied: smmap<6,>=3.0.1 in /opt/conda/lib/python3.10/site-packages (from gitdb<5,>=4.0.1->gitpython) (5.0.0)\r\n"
     ]
    }
   ],
   "source": [
    "import numpy as np # linear algebra\n",
    "import pandas as pd # data processing, CSV file I/O (e.g. pd.read_csv)\n",
    "import torch\n",
    "import os\n",
    "!pip install gitpython\n",
    "import git\n",
    "git.Repo.clone_from('https://github.com/gregorbachmann/scaling_mlps.git', '/kaggle/working/sample')\n",
    "import sys"
   ]
  },
  {
   "cell_type": "code",
   "execution_count": 2,
   "id": "3b35cd8e",
   "metadata": {
    "execution": {
     "iopub.execute_input": "2023-11-03T15:38:12.759873Z",
     "iopub.status.busy": "2023-11-03T15:38:12.759236Z",
     "iopub.status.idle": "2023-11-03T15:38:12.764004Z",
     "shell.execute_reply": "2023-11-03T15:38:12.763197Z"
    },
    "papermill": {
     "duration": 0.010093,
     "end_time": "2023-11-03T15:38:12.765870",
     "exception": false,
     "start_time": "2023-11-03T15:38:12.755777",
     "status": "completed"
    },
    "tags": []
   },
   "outputs": [],
   "source": [
    "sys.path.append('/kaggle/working/sample')"
   ]
  },
  {
   "cell_type": "code",
   "execution_count": 3,
   "id": "95f19ccb",
   "metadata": {
    "execution": {
     "iopub.execute_input": "2023-11-03T15:38:12.771457Z",
     "iopub.status.busy": "2023-11-03T15:38:12.771210Z",
     "iopub.status.idle": "2023-11-03T15:38:12.873901Z",
     "shell.execute_reply": "2023-11-03T15:38:12.872999Z"
    },
    "papermill": {
     "duration": 0.107764,
     "end_time": "2023-11-03T15:38:12.875856",
     "exception": false,
     "start_time": "2023-11-03T15:38:12.768092",
     "status": "completed"
    },
    "tags": []
   },
   "outputs": [
    {
     "data": {
      "text/plain": [
       "True"
      ]
     },
     "execution_count": 3,
     "metadata": {},
     "output_type": "execute_result"
    }
   ],
   "source": [
    "torch.cuda.is_available()"
   ]
  },
  {
   "cell_type": "code",
   "execution_count": 4,
   "id": "a15e2d24",
   "metadata": {
    "execution": {
     "iopub.execute_input": "2023-11-03T15:38:12.882159Z",
     "iopub.status.busy": "2023-11-03T15:38:12.881898Z",
     "iopub.status.idle": "2023-11-03T15:38:17.621621Z",
     "shell.execute_reply": "2023-11-03T15:38:17.620454Z"
    },
    "papermill": {
     "duration": 4.745266,
     "end_time": "2023-11-03T15:38:17.623867",
     "exception": false,
     "start_time": "2023-11-03T15:38:12.878601",
     "status": "completed"
    },
    "tags": []
   },
   "outputs": [
    {
     "name": "stdout",
     "output_type": "stream",
     "text": [
      "Loading checkpoint /kaggle/input/data-test-5/epoch_800\n",
      "Load_state output <All keys matched successfully>\n"
     ]
    }
   ],
   "source": [
    "import json\n",
    "import torch\n",
    "\n",
    "from sample.models import get_architecture\n",
    "from sample.utils.parsers import get_finetune_parser\n",
    "from sample.utils.config import config_to_name, model_from_config\n",
    "\n",
    "\n",
    "# Path to pre-trained checkpoints and the corresponding config file (e.g. the checkpoints downloaded from given link)\n",
    "checkpoint_path = '/kaggle/input/data-test-5/epoch_800'\n",
    "config_path = '/kaggle/input/data-test-5/config.txt'\n",
    "\n",
    "model, architecture, crop_resolution, norm = model_from_config(checkpoint_path)\n",
    "with open(config_path, 'r') as f:\n",
    "        config = json.load(f)\n",
    "\n",
    "model = get_architecture(**config).cuda()\n",
    "print('Loading checkpoint', checkpoint_path)\n",
    "\n",
    "params = {\n",
    "    k: v\n",
    "    for k, v in torch.load(checkpoint_path).items()\n",
    "}\n",
    "\n",
    "# Load pre-trained parameters \n",
    "print('Load_state output', model.load_state_dict(params, strict=False))"
   ]
  },
  {
   "cell_type": "code",
   "execution_count": 5,
   "id": "b996b815",
   "metadata": {
    "execution": {
     "iopub.execute_input": "2023-11-03T15:38:17.630496Z",
     "iopub.status.busy": "2023-11-03T15:38:17.630192Z",
     "iopub.status.idle": "2023-11-03T15:38:17.636876Z",
     "shell.execute_reply": "2023-11-03T15:38:17.635954Z"
    },
    "papermill": {
     "duration": 0.012135,
     "end_time": "2023-11-03T15:38:17.638909",
     "exception": false,
     "start_time": "2023-11-03T15:38:17.626774",
     "status": "completed"
    },
    "tags": []
   },
   "outputs": [
    {
     "data": {
      "text/plain": [
       "BottleneckMLP(\n",
       "  (act): GELU(approximate='none')\n",
       "  (dropout): Identity()\n",
       "  (linear_in): Linear(in_features=12288, out_features=512, bias=True)\n",
       "  (linear_out): Linear(in_features=512, out_features=11230, bias=True)\n",
       "  (blocks): ModuleList(\n",
       "    (0-5): 6 x BottleneckBlock(\n",
       "      (block): Sequential(\n",
       "        (0): Linear(in_features=512, out_features=2048, bias=True)\n",
       "        (1): GELU(approximate='none')\n",
       "        (2): Linear(in_features=2048, out_features=512, bias=True)\n",
       "      )\n",
       "    )\n",
       "  )\n",
       "  (layernorms): ModuleList(\n",
       "    (0-5): 6 x LayerNorm((512,), eps=1e-05, elementwise_affine=True)\n",
       "  )\n",
       ")"
      ]
     },
     "execution_count": 5,
     "metadata": {},
     "output_type": "execute_result"
    }
   ],
   "source": [
    "model.eval()"
   ]
  }
 ],
 "metadata": {
  "kernelspec": {
   "display_name": "Python 3",
   "language": "python",
   "name": "python3"
  },
  "language_info": {
   "codemirror_mode": {
    "name": "ipython",
    "version": 3
   },
   "file_extension": ".py",
   "mimetype": "text/x-python",
   "name": "python",
   "nbconvert_exporter": "python",
   "pygments_lexer": "ipython3",
   "version": "3.10.12"
  },
  "papermill": {
   "default_parameters": {},
   "duration": 29.766744,
   "end_time": "2023-11-03T15:38:19.931120",
   "environment_variables": {},
   "exception": null,
   "input_path": "__notebook__.ipynb",
   "output_path": "__notebook__.ipynb",
   "parameters": {},
   "start_time": "2023-11-03T15:37:50.164376",
   "version": "2.4.0"
  }
 },
 "nbformat": 4,
 "nbformat_minor": 5
}
