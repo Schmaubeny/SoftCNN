{
 "cells": [
  {
   "cell_type": "code",
   "execution_count": 1,
   "id": "a21b61de",
   "metadata": {
    "_cell_guid": "b1076dfc-b9ad-4769-8c92-a6c4dae69d19",
    "_uuid": "8f2839f25d086af736a60e9eeb907d3b93b6e0e5",
    "execution": {
     "iopub.execute_input": "2023-11-06T17:17:14.091172Z",
     "iopub.status.busy": "2023-11-06T17:17:14.090823Z",
     "iopub.status.idle": "2023-11-06T17:17:38.077124Z",
     "shell.execute_reply": "2023-11-06T17:17:38.076131Z"
    },
    "papermill": {
     "duration": 23.99446,
     "end_time": "2023-11-06T17:17:38.079628",
     "exception": false,
     "start_time": "2023-11-06T17:17:14.085168",
     "status": "completed"
    },
    "tags": []
   },
   "outputs": [
    {
     "name": "stdout",
     "output_type": "stream",
     "text": [
      "Requirement already satisfied: gitpython in /opt/conda/lib/python3.10/site-packages (3.1.31)\r\n",
      "Requirement already satisfied: gitdb<5,>=4.0.1 in /opt/conda/lib/python3.10/site-packages (from gitpython) (4.0.10)\r\n",
      "Requirement already satisfied: smmap<6,>=3.0.1 in /opt/conda/lib/python3.10/site-packages (from gitdb<5,>=4.0.1->gitpython) (5.0.0)\r\n"
     ]
    }
   ],
   "source": [
    "import numpy as np # linear algebra\n",
    "import pandas as pd # data processing, CSV file I/O (e.g. pd.read_csv)\n",
    "import torch\n",
    "import os\n",
    "!pip install gitpython\n",
    "import git\n",
    "git.Repo.clone_from('https://github.com/gregorbachmann/scaling_mlps.git', '/kaggle/working/sample')\n",
    "import sys"
   ]
  },
  {
   "cell_type": "code",
   "execution_count": 2,
   "id": "45136804",
   "metadata": {
    "execution": {
     "iopub.execute_input": "2023-11-06T17:17:38.089728Z",
     "iopub.status.busy": "2023-11-06T17:17:38.089108Z",
     "iopub.status.idle": "2023-11-06T17:17:38.094122Z",
     "shell.execute_reply": "2023-11-06T17:17:38.093371Z"
    },
    "papermill": {
     "duration": 0.012326,
     "end_time": "2023-11-06T17:17:38.096245",
     "exception": false,
     "start_time": "2023-11-06T17:17:38.083919",
     "status": "completed"
    },
    "tags": []
   },
   "outputs": [],
   "source": [
    "sys.path.append('/kaggle/working/sample')"
   ]
  },
  {
   "cell_type": "code",
   "execution_count": 3,
   "id": "e866a88c",
   "metadata": {
    "execution": {
     "iopub.execute_input": "2023-11-06T17:17:38.106154Z",
     "iopub.status.busy": "2023-11-06T17:17:38.105754Z",
     "iopub.status.idle": "2023-11-06T17:17:38.214177Z",
     "shell.execute_reply": "2023-11-06T17:17:38.213306Z"
    },
    "papermill": {
     "duration": 0.115757,
     "end_time": "2023-11-06T17:17:38.216331",
     "exception": false,
     "start_time": "2023-11-06T17:17:38.100574",
     "status": "completed"
    },
    "tags": []
   },
   "outputs": [
    {
     "data": {
      "text/plain": [
       "True"
      ]
     },
     "execution_count": 3,
     "metadata": {},
     "output_type": "execute_result"
    }
   ],
   "source": [
    "## Check if accelerator CUDA\n",
    "torch.cuda.is_available()"
   ]
  },
  {
   "cell_type": "code",
   "execution_count": 4,
   "id": "95b3f6fd",
   "metadata": {
    "execution": {
     "iopub.execute_input": "2023-11-06T17:17:38.226503Z",
     "iopub.status.busy": "2023-11-06T17:17:38.225782Z",
     "iopub.status.idle": "2023-11-06T17:17:44.713125Z",
     "shell.execute_reply": "2023-11-06T17:17:44.711782Z"
    },
    "papermill": {
     "duration": 6.49467,
     "end_time": "2023-11-06T17:17:44.715321",
     "exception": false,
     "start_time": "2023-11-06T17:17:38.220651",
     "status": "completed"
    },
    "tags": []
   },
   "outputs": [
    {
     "name": "stdout",
     "output_type": "stream",
     "text": [
      "Loading checkpoint /kaggle/input/data-test-5/epoch_800\n",
      "Load_state output <All keys matched successfully>\n"
     ]
    }
   ],
   "source": [
    "import json\n",
    "import torch\n",
    "\n",
    "from sample.models import get_architecture\n",
    "from sample.utils.parsers import get_finetune_parser\n",
    "from sample.utils.config import config_to_name, model_from_config\n",
    "\n",
    "\n",
    "# Path to pre-trained checkpoints and the corresponding config file (e.g. the checkpoints downloaded from given link)\n",
    "checkpoint_path = '/kaggle/input/data-test-5/epoch_800'\n",
    "config_path = '/kaggle/input/data-test-5/config.txt'\n",
    "\n",
    "model, architecture, crop_resolution, norm = model_from_config(checkpoint_path)\n",
    "with open(config_path, 'r') as f:\n",
    "        config = json.load(f)\n",
    "\n",
    "model = get_architecture(**config).cuda()\n",
    "print('Loading checkpoint', checkpoint_path)\n",
    "\n",
    "params = {\n",
    "    k: v\n",
    "    for k, v in torch.load(checkpoint_path).items()\n",
    "}\n",
    "\n",
    "# Load pre-trained parameters \n",
    "print('Load_state output', model.load_state_dict(params, strict=False))"
   ]
  },
  {
   "cell_type": "code",
   "execution_count": 5,
   "id": "fb36d67c",
   "metadata": {
    "execution": {
     "iopub.execute_input": "2023-11-06T17:17:44.726986Z",
     "iopub.status.busy": "2023-11-06T17:17:44.725926Z",
     "iopub.status.idle": "2023-11-06T17:17:44.733972Z",
     "shell.execute_reply": "2023-11-06T17:17:44.733023Z"
    },
    "papermill": {
     "duration": 0.016509,
     "end_time": "2023-11-06T17:17:44.736517",
     "exception": false,
     "start_time": "2023-11-06T17:17:44.720008",
     "status": "completed"
    },
    "tags": []
   },
   "outputs": [
    {
     "data": {
      "text/plain": [
       "BottleneckMLP(\n",
       "  (act): GELU(approximate='none')\n",
       "  (dropout): Identity()\n",
       "  (linear_in): Linear(in_features=12288, out_features=512, bias=True)\n",
       "  (linear_out): Linear(in_features=512, out_features=11230, bias=True)\n",
       "  (blocks): ModuleList(\n",
       "    (0-5): 6 x BottleneckBlock(\n",
       "      (block): Sequential(\n",
       "        (0): Linear(in_features=512, out_features=2048, bias=True)\n",
       "        (1): GELU(approximate='none')\n",
       "        (2): Linear(in_features=2048, out_features=512, bias=True)\n",
       "      )\n",
       "    )\n",
       "  )\n",
       "  (layernorms): ModuleList(\n",
       "    (0-5): 6 x LayerNorm((512,), eps=1e-05, elementwise_affine=True)\n",
       "  )\n",
       ")"
      ]
     },
     "execution_count": 5,
     "metadata": {},
     "output_type": "execute_result"
    }
   ],
   "source": [
    "model.eval()"
   ]
  },
  {
   "cell_type": "code",
   "execution_count": null,
   "id": "ef2b9586",
   "metadata": {
    "papermill": {
     "duration": 0.006487,
     "end_time": "2023-11-06T17:17:44.749536",
     "exception": false,
     "start_time": "2023-11-06T17:17:44.743049",
     "status": "completed"
    },
    "tags": []
   },
   "outputs": [],
   "source": []
  },
  {
   "cell_type": "code",
   "execution_count": 6,
   "id": "ed3fb498",
   "metadata": {
    "execution": {
     "iopub.execute_input": "2023-11-06T17:17:44.762171Z",
     "iopub.status.busy": "2023-11-06T17:17:44.761132Z",
     "iopub.status.idle": "2023-11-06T17:17:49.440694Z",
     "shell.execute_reply": "2023-11-06T17:17:49.439763Z"
    },
    "papermill": {
     "duration": 4.687842,
     "end_time": "2023-11-06T17:17:49.442921",
     "exception": false,
     "start_time": "2023-11-06T17:17:44.755079",
     "status": "completed"
    },
    "tags": []
   },
   "outputs": [],
   "source": [
    "## Next step: evaluate the models performance on our adversarial data \n",
    "### As preprocessing for now just the basics so it doesnt errors\n",
    "### Consider normalizing the with mean and variance, \n",
    "### left for later to get the important stuff out of the way first\n",
    "\n",
    "## \n",
    "import torchvision.datasets as dataset\n",
    "from torch.utils.data import DataLoader\n",
    "from torchvision import transforms\n",
    "root=\"/kaggle/input/natural-adversarial-examples-imageneta/imagenet-a/imagenet-a\"\n",
    "\n",
    "torch.manual_seed(1)\n",
    "transform = transforms.Compose([\n",
    "    # Add other transformations here\n",
    "    transforms.Resize((64,64)),         ## Models were pretrained on input size 3x64x64\n",
    "    #transforms.CenterCrop(64),\n",
    "    transforms.ToTensor() \n",
    "])\n",
    "img_ds=dataset.ImageFolder(root,transform)\n",
    "img_dl=DataLoader(img_ds,batch_size=128,shuffle=False)"
   ]
  },
  {
   "cell_type": "code",
   "execution_count": 7,
   "id": "bae0dd55",
   "metadata": {
    "execution": {
     "iopub.execute_input": "2023-11-06T17:17:49.455235Z",
     "iopub.status.busy": "2023-11-06T17:17:49.454441Z",
     "iopub.status.idle": "2023-11-06T17:17:55.230001Z",
     "shell.execute_reply": "2023-11-06T17:17:55.228855Z"
    },
    "papermill": {
     "duration": 5.783475,
     "end_time": "2023-11-06T17:17:55.232186",
     "exception": false,
     "start_time": "2023-11-06T17:17:49.448711",
     "status": "completed"
    },
    "tags": []
   },
   "outputs": [
    {
     "name": "stdout",
     "output_type": "stream",
     "text": [
      "tensor([[[0.6353, 0.5765, 0.6392,  ..., 0.6235, 0.4588, 0.4039],\n",
      "         [0.6784, 0.6039, 0.6118,  ..., 0.5412, 0.4392, 0.3529],\n",
      "         [0.7059, 0.6157, 0.5882,  ..., 0.5255, 0.4784, 0.4392],\n",
      "         ...,\n",
      "         [0.6549, 0.5686, 0.6039,  ..., 0.4275, 0.4392, 0.4510],\n",
      "         [0.7216, 0.7529, 0.8314,  ..., 0.2471, 0.2667, 0.2784],\n",
      "         [0.6392, 0.6667, 0.7569,  ..., 0.1137, 0.1216, 0.1255]],\n",
      "\n",
      "        [[0.6353, 0.5961, 0.6627,  ..., 0.7216, 0.5529, 0.5059],\n",
      "         [0.6980, 0.6549, 0.6353,  ..., 0.6078, 0.5333, 0.4510],\n",
      "         [0.7255, 0.6392, 0.6078,  ..., 0.6078, 0.6000, 0.5725],\n",
      "         ...,\n",
      "         [0.6118, 0.5137, 0.5529,  ..., 0.4431, 0.4588, 0.4667],\n",
      "         [0.6549, 0.6863, 0.7725,  ..., 0.2392, 0.2588, 0.2745],\n",
      "         [0.5647, 0.5922, 0.6824,  ..., 0.0863, 0.0902, 0.0980]],\n",
      "\n",
      "        [[0.5294, 0.4980, 0.5765,  ..., 0.7255, 0.5451, 0.5176],\n",
      "         [0.5686, 0.5020, 0.5216,  ..., 0.5725, 0.5294, 0.4706],\n",
      "         [0.6157, 0.5216, 0.5216,  ..., 0.5765, 0.6039, 0.6078],\n",
      "         ...,\n",
      "         [0.6118, 0.5216, 0.5569,  ..., 0.4824, 0.4980, 0.5059],\n",
      "         [0.6510, 0.6824, 0.7608,  ..., 0.2745, 0.2902, 0.3020],\n",
      "         [0.5725, 0.5922, 0.6667,  ..., 0.1059, 0.1098, 0.1216]]]) \n",
      " 1\n",
      "11230\n"
     ]
    }
   ],
   "source": [
    "for images,labels in img_dl:\n",
    "    print(images[123],'\\n',labels[123].item()) ## Just visualisation, remove if in the way\n",
    "    break\n",
    "    \n",
    "ims,lbs=images.cuda(),labels.cuda()\n",
    "ims = torch.reshape(ims, (ims.shape[0], -1)) ## Need to be flattened \n",
    "\n",
    "preds = model(ims)\n",
    "lbs.shape,preds.shape                       ## (128), (128,11230)\n",
    "## Model was pretrained on the 21kImageNet data which have 11230 classes,  \n",
    "## We should probably discuss this \n",
    "print(model.dim_out)"
   ]
  },
  {
   "cell_type": "code",
   "execution_count": 8,
   "id": "da0c465e",
   "metadata": {
    "execution": {
     "iopub.execute_input": "2023-11-06T17:17:55.243904Z",
     "iopub.status.busy": "2023-11-06T17:17:55.243098Z",
     "iopub.status.idle": "2023-11-06T17:17:55.247578Z",
     "shell.execute_reply": "2023-11-06T17:17:55.246566Z"
    },
    "papermill": {
     "duration": 0.012493,
     "end_time": "2023-11-06T17:17:55.249688",
     "exception": false,
     "start_time": "2023-11-06T17:17:55.237195",
     "status": "completed"
    },
    "tags": []
   },
   "outputs": [],
   "source": [
    "## 1 epsilon sharing - optimierung genau anschauen \n",
    "### Regularization in the loss, for each layer a norm for diffference of matrices \n",
    "### How to get the weights into the loss\n",
    "\n",
    "## 2 Wir erzwingen sharen und schuen ob sparsity passiert by itself \n",
    "### Einfach dann mal lambda=100000 und brute force \n",
    "### "
   ]
  },
  {
   "cell_type": "code",
   "execution_count": null,
   "id": "2f5ac2ae",
   "metadata": {
    "papermill": {
     "duration": 0.004607,
     "end_time": "2023-11-06T17:17:55.259048",
     "exception": false,
     "start_time": "2023-11-06T17:17:55.254441",
     "status": "completed"
    },
    "tags": []
   },
   "outputs": [],
   "source": []
  },
  {
   "cell_type": "code",
   "execution_count": null,
   "id": "1ae10cb2",
   "metadata": {
    "papermill": {
     "duration": 0.004803,
     "end_time": "2023-11-06T17:17:55.268759",
     "exception": false,
     "start_time": "2023-11-06T17:17:55.263956",
     "status": "completed"
    },
    "tags": []
   },
   "outputs": [],
   "source": []
  },
  {
   "cell_type": "code",
   "execution_count": null,
   "id": "9ed22001",
   "metadata": {
    "execution": {
     "iopub.execute_input": "2023-11-03T19:01:03.329433Z",
     "iopub.status.busy": "2023-11-03T19:01:03.328616Z",
     "iopub.status.idle": "2023-11-03T19:01:03.342342Z",
     "shell.execute_reply": "2023-11-03T19:01:03.341396Z",
     "shell.execute_reply.started": "2023-11-03T19:01:03.329397Z"
    },
    "papermill": {
     "duration": 0.004535,
     "end_time": "2023-11-06T17:17:55.277725",
     "exception": false,
     "start_time": "2023-11-06T17:17:55.273190",
     "status": "completed"
    },
    "tags": []
   },
   "outputs": [],
   "source": []
  },
  {
   "cell_type": "code",
   "execution_count": null,
   "id": "8f78385b",
   "metadata": {
    "papermill": {
     "duration": 0.004523,
     "end_time": "2023-11-06T17:17:55.287139",
     "exception": false,
     "start_time": "2023-11-06T17:17:55.282616",
     "status": "completed"
    },
    "tags": []
   },
   "outputs": [],
   "source": []
  }
 ],
 "metadata": {
  "kernelspec": {
   "display_name": "Python 3",
   "language": "python",
   "name": "python3"
  },
  "language_info": {
   "codemirror_mode": {
    "name": "ipython",
    "version": 3
   },
   "file_extension": ".py",
   "mimetype": "text/x-python",
   "name": "python",
   "nbconvert_exporter": "python",
   "pygments_lexer": "ipython3",
   "version": "3.10.12"
  },
  "papermill": {
   "default_parameters": {},
   "duration": 48.528992,
   "end_time": "2023-11-06T17:17:57.703906",
   "environment_variables": {},
   "exception": null,
   "input_path": "__notebook__.ipynb",
   "output_path": "__notebook__.ipynb",
   "parameters": {},
   "start_time": "2023-11-06T17:17:09.174914",
   "version": "2.4.0"
  }
 },
 "nbformat": 4,
 "nbformat_minor": 5
}
