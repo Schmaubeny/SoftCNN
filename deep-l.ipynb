{
 "cells": [
  {
   "cell_type": "code",
   "execution_count": 1,
   "id": "f99af3c7",
   "metadata": {
    "_cell_guid": "b1076dfc-b9ad-4769-8c92-a6c4dae69d19",
    "_uuid": "8f2839f25d086af736a60e9eeb907d3b93b6e0e5",
    "execution": {
     "iopub.execute_input": "2023-11-03T14:35:20.482823Z",
     "iopub.status.busy": "2023-11-03T14:35:20.482510Z",
     "iopub.status.idle": "2023-11-03T14:35:38.879925Z",
     "shell.execute_reply": "2023-11-03T14:35:38.878861Z"
    },
    "papermill": {
     "duration": 18.403769,
     "end_time": "2023-11-03T14:35:38.882313",
     "exception": false,
     "start_time": "2023-11-03T14:35:20.478544",
     "status": "completed"
    },
    "tags": []
   },
   "outputs": [
    {
     "name": "stdout",
     "output_type": "stream",
     "text": [
      "Requirement already satisfied: gitpython in /opt/conda/lib/python3.10/site-packages (3.1.31)\r\n",
      "Requirement already satisfied: gitdb<5,>=4.0.1 in /opt/conda/lib/python3.10/site-packages (from gitpython) (4.0.10)\r\n",
      "Requirement already satisfied: smmap<6,>=3.0.1 in /opt/conda/lib/python3.10/site-packages (from gitdb<5,>=4.0.1->gitpython) (5.0.0)\r\n"
     ]
    }
   ],
   "source": [
    "import numpy as np # linear algebra\n",
    "import pandas as pd # data processing, CSV file I/O (e.g. pd.read_csv)\n",
    "import torch\n",
    "import os\n",
    "!pip install gitpython\n",
    "import git\n",
    "git.Repo.clone_from('https://github.com/gregorbachmann/scaling_mlps.git', '/kaggle/working/sample')\n",
    "import sys"
   ]
  },
  {
   "cell_type": "code",
   "execution_count": 2,
   "id": "aafe5604",
   "metadata": {
    "execution": {
     "iopub.execute_input": "2023-11-03T14:35:38.889223Z",
     "iopub.status.busy": "2023-11-03T14:35:38.888671Z",
     "iopub.status.idle": "2023-11-03T14:35:38.893391Z",
     "shell.execute_reply": "2023-11-03T14:35:38.892598Z"
    },
    "papermill": {
     "duration": 0.010403,
     "end_time": "2023-11-03T14:35:38.895479",
     "exception": false,
     "start_time": "2023-11-03T14:35:38.885076",
     "status": "completed"
    },
    "tags": []
   },
   "outputs": [],
   "source": [
    "sys.path.append('/kaggle/working/sample')"
   ]
  },
  {
   "cell_type": "code",
   "execution_count": 3,
   "id": "09cc9838",
   "metadata": {
    "execution": {
     "iopub.execute_input": "2023-11-03T14:35:38.901604Z",
     "iopub.status.busy": "2023-11-03T14:35:38.901093Z",
     "iopub.status.idle": "2023-11-03T14:35:39.002309Z",
     "shell.execute_reply": "2023-11-03T14:35:39.001308Z"
    },
    "papermill": {
     "duration": 0.106594,
     "end_time": "2023-11-03T14:35:39.004470",
     "exception": false,
     "start_time": "2023-11-03T14:35:38.897876",
     "status": "completed"
    },
    "tags": []
   },
   "outputs": [
    {
     "data": {
      "text/plain": [
       "True"
      ]
     },
     "execution_count": 3,
     "metadata": {},
     "output_type": "execute_result"
    }
   ],
   "source": [
    "torch.cuda.is_available()"
   ]
  },
  {
   "cell_type": "code",
   "execution_count": 4,
   "id": "8db252b3",
   "metadata": {
    "execution": {
     "iopub.execute_input": "2023-11-03T14:35:39.010623Z",
     "iopub.status.busy": "2023-11-03T14:35:39.010295Z",
     "iopub.status.idle": "2023-11-03T14:35:43.030472Z",
     "shell.execute_reply": "2023-11-03T14:35:43.029245Z"
    },
    "papermill": {
     "duration": 4.025879,
     "end_time": "2023-11-03T14:35:43.032847",
     "exception": false,
     "start_time": "2023-11-03T14:35:39.006968",
     "status": "completed"
    },
    "tags": []
   },
   "outputs": [
    {
     "name": "stdout",
     "output_type": "stream",
     "text": [
      "Loading checkpoint /kaggle/input/data-test-5/epoch_800\n",
      "Load_state output <All keys matched successfully>\n"
     ]
    }
   ],
   "source": [
    "import json\n",
    "import torch\n",
    "\n",
    "from sample.models import get_architecture\n",
    "from sample.utils.parsers import get_finetune_parser\n",
    "from sample.utils.config import config_to_name, model_from_config\n",
    "\n",
    "\n",
    "# Path to pre-trained checkpoints and the corresponding config file (e.g. the checkpoints downloaded from given link)\n",
    "checkpoint_path = '/kaggle/input/data-test-5/epoch_800'\n",
    "config_path = '/kaggle/input/data-test-5/config.txt'\n",
    "\n",
    "model, architecture, crop_resolution, norm = model_from_config(checkpoint_path)\n",
    "with open(config_path, 'r') as f:\n",
    "        config = json.load(f)\n",
    "\n",
    "model = get_architecture(**config).cuda()\n",
    "print('Loading checkpoint', checkpoint_path)\n",
    "\n",
    "params = {\n",
    "    k: v\n",
    "    for k, v in torch.load(checkpoint_path).items()\n",
    "}\n",
    "\n",
    "# Load pre-trained parameters \n",
    "print('Load_state output', model.load_state_dict(params, strict=False))"
   ]
  },
  {
   "cell_type": "code",
   "execution_count": 5,
   "id": "6edd0864",
   "metadata": {
    "execution": {
     "iopub.execute_input": "2023-11-03T14:35:43.039928Z",
     "iopub.status.busy": "2023-11-03T14:35:43.039617Z",
     "iopub.status.idle": "2023-11-03T14:35:43.046088Z",
     "shell.execute_reply": "2023-11-03T14:35:43.045209Z"
    },
    "papermill": {
     "duration": 0.011911,
     "end_time": "2023-11-03T14:35:43.047943",
     "exception": false,
     "start_time": "2023-11-03T14:35:43.036032",
     "status": "completed"
    },
    "tags": []
   },
   "outputs": [
    {
     "data": {
      "text/plain": [
       "BottleneckMLP(\n",
       "  (act): GELU(approximate='none')\n",
       "  (dropout): Identity()\n",
       "  (linear_in): Linear(in_features=12288, out_features=512, bias=True)\n",
       "  (linear_out): Linear(in_features=512, out_features=11230, bias=True)\n",
       "  (blocks): ModuleList(\n",
       "    (0-5): 6 x BottleneckBlock(\n",
       "      (block): Sequential(\n",
       "        (0): Linear(in_features=512, out_features=2048, bias=True)\n",
       "        (1): GELU(approximate='none')\n",
       "        (2): Linear(in_features=2048, out_features=512, bias=True)\n",
       "      )\n",
       "    )\n",
       "  )\n",
       "  (layernorms): ModuleList(\n",
       "    (0-5): 6 x LayerNorm((512,), eps=1e-05, elementwise_affine=True)\n",
       "  )\n",
       ")"
      ]
     },
     "execution_count": 5,
     "metadata": {},
     "output_type": "execute_result"
    }
   ],
   "source": [
    "model.eval()"
   ]
  }
 ],
 "metadata": {
  "kernelspec": {
   "display_name": "Python 3",
   "language": "python",
   "name": "python3"
  },
  "language_info": {
   "codemirror_mode": {
    "name": "ipython",
    "version": 3
   },
   "file_extension": ".py",
   "mimetype": "text/x-python",
   "name": "python",
   "nbconvert_exporter": "python",
   "pygments_lexer": "ipython3",
   "version": "3.10.12"
  },
  "papermill": {
   "default_parameters": {},
   "duration": 27.53761,
   "end_time": "2023-11-03T14:35:44.472697",
   "environment_variables": {},
   "exception": null,
   "input_path": "__notebook__.ipynb",
   "output_path": "__notebook__.ipynb",
   "parameters": {},
   "start_time": "2023-11-03T14:35:16.935087",
   "version": "2.4.0"
  }
 },
 "nbformat": 4,
 "nbformat_minor": 5
}
