{
 "cells": [
  {
   "cell_type": "code",
   "execution_count": 1,
   "id": "81f637e1",
   "metadata": {
    "_cell_guid": "b1076dfc-b9ad-4769-8c92-a6c4dae69d19",
    "_uuid": "8f2839f25d086af736a60e9eeb907d3b93b6e0e5",
    "execution": {
     "iopub.execute_input": "2023-10-25T14:20:48.306644Z",
     "iopub.status.busy": "2023-10-25T14:20:48.306118Z",
     "iopub.status.idle": "2023-10-25T14:20:48.771374Z",
     "shell.execute_reply": "2023-10-25T14:20:48.769942Z"
    },
    "papermill": {
     "duration": 0.472755,
     "end_time": "2023-10-25T14:20:48.774513",
     "exception": false,
     "start_time": "2023-10-25T14:20:48.301758",
     "status": "completed"
    },
    "tags": []
   },
   "outputs": [],
   "source": [
    "# This Python 3 environment comes with many helpful analytics libraries installed\n",
    "# It is defined by the kaggle/python Docker image: https://github.com/kaggle/docker-python\n",
    "# For example, here's several helpful packages to load\n",
    "\n",
    "import numpy as np # linear algebra\n",
    "import pandas as pd # data processing, CSV file I/O (e.g. pd.read_csv)\n",
    "\n",
    "# Input data files are available in the read-only \"../input/\" directory\n",
    "# For example, running this (by clicking run or pressing Shift+Enter) will list all files under the input directory\n",
    "\n",
    "import os\n",
    "for dirname, _, filenames in os.walk('/kaggle/input'):\n",
    "    for filename in filenames:\n",
    "        print(os.path.join(dirname, filename))\n",
    "\n",
    "# You can write up to 20GB to the current directory (/kaggle/working/) that gets preserved as output when you create a version using \"Save & Run All\" \n",
    "# You can also write temporary files to /kaggle/temp/, but they won't be saved outside of the current session"
   ]
  },
  {
   "cell_type": "markdown",
   "id": "d43c01d3",
   "metadata": {
    "papermill": {
     "duration": 0.001792,
     "end_time": "2023-10-25T14:20:48.778668",
     "exception": false,
     "start_time": "2023-10-25T14:20:48.776876",
     "status": "completed"
    },
    "tags": []
   },
   "source": []
  },
  {
   "cell_type": "code",
   "execution_count": 2,
   "id": "bda086ad",
   "metadata": {
    "execution": {
     "iopub.execute_input": "2023-10-25T14:20:48.786819Z",
     "iopub.status.busy": "2023-10-25T14:20:48.786265Z",
     "iopub.status.idle": "2023-10-25T14:20:48.792564Z",
     "shell.execute_reply": "2023-10-25T14:20:48.791128Z"
    },
    "papermill": {
     "duration": 0.01364,
     "end_time": "2023-10-25T14:20:48.796208",
     "exception": false,
     "start_time": "2023-10-25T14:20:48.782568",
     "status": "completed"
    },
    "tags": []
   },
   "outputs": [
    {
     "name": "stdout",
     "output_type": "stream",
     "text": [
      "Hello\n"
     ]
    }
   ],
   "source": [
    "print(\"Hello\")"
   ]
  }
 ],
 "metadata": {
  "kernelspec": {
   "display_name": "Python 3",
   "language": "python",
   "name": "python3"
  },
  "language_info": {
   "codemirror_mode": {
    "name": "ipython",
    "version": 3
   },
   "file_extension": ".py",
   "mimetype": "text/x-python",
   "name": "python",
   "nbconvert_exporter": "python",
   "pygments_lexer": "ipython3",
   "version": "3.10.12"
  },
  "papermill": {
   "default_parameters": {},
   "duration": 4.719894,
   "end_time": "2023-10-25T14:20:49.321109",
   "environment_variables": {},
   "exception": null,
   "input_path": "__notebook__.ipynb",
   "output_path": "__notebook__.ipynb",
   "parameters": {},
   "start_time": "2023-10-25T14:20:44.601215",
   "version": "2.4.0"
  }
 },
 "nbformat": 4,
 "nbformat_minor": 5
}
